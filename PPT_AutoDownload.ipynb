{
 "cells": [
  {
   "cell_type": "code",
   "execution_count": 11,
   "metadata": {},
   "outputs": [],
   "source": [
    "import re\n",
    "import time\n",
    "import requests\n",
    "import os\n",
    "from bs4 import BeautifulSoup\n",
    "import wget\n",
    "\n",
    "URL = 'https://meetings.wmo.int/impact-workshop-7/SitePages/Tentative%20Program.aspx?CalendarDate=30/11/2020&amp;CalendarPeriod=week'\n",
    "header = {\n",
    "    'Referer':'http://www.1ppt.com/',\n",
    "    'User-Agent':'Mozilla/5.0 (Windows NT 6.1; WOW64) AppleWebKit/537.36 (KHTML, like Gecko) Chrome/55.0.2883.87 UBrowser/6.2.3964.2 Safari/537.36'\n",
    "}\n",
    "\n",
    "def getHTMLText(url):\n",
    "    try:\n",
    "        headers={\n",
    "                \"user-agent\":\"Mozilla/5.0 (Windows NT 10.0; Win64; x64) AppleWebKit/537.36 (KHTML, like Gecko) Chrome/80.0.3987.149 Safari/537.36\",\n",
    "                \"cookie\":= '',  # Please add a cookie from our own browser here.
    "            }\n",
    "        r = requests.get(url,headers=headers)\n",
    "        r.raise_for_status()\n",
    "        r.encoding = r.apparent_encoding\n",
    "        return r.text\n",
    "    except:\n",
    "        return \"error exist\"\n",
    "\n",
    "def main():\n",
    "    html = getHTMLText(URL)\n",
    "    soup = BeautifulSoup(html, \"html.parser\")\n",
    "    title = []\n",
    "    for link in soup.find_all('a'):\n",
    "        #title.append(link.get('href'))\n",
    "        try:\n",
    "            if ('pdf' in link.get(\"href\") or 'ppt' in link.get(\"href\")):\n",
    "                title.append(link.get(\"href\"))\n",
    "        except:\n",
    "            continue\n",
    "    url = \"https://meetings.wmo.int\"\n",
    "    for item in title:\n",
    "        wget.download(url+item, item.split(\"/\")[-1])\n",
    "        time.sleep(1)"
   ]
  },
  {
   "cell_type": "code",
   "execution_count": 14,
   "metadata": {},
   "outputs": [],
   "source": [
    "html = getHTMLText(URL)\n",
    "soup = BeautifulSoup(html, \"html.parser\")\n",
    "title = []"
   ]
  },
  {
   "cell_type": "code",
   "execution_count": 15,
   "metadata": {},
   "outputs": [],
   "source": [
    "for link in soup.find_all('a'):\n",
    "    #title.append(link.get('href'))\n",
    "    try:\n",
    "        if ('pdf' in link.get(\"href\") or 'ppt' in link.get(\"href\")):\n",
    "            title.append(link.get(\"href\"))\n",
    "    except:\n",
    "        continue\n",
    "url = \"https://meetings.wmo.int\""
   ]
  },
  {
   "cell_type": "code",
   "execution_count": 29,
   "metadata": {},
   "outputs": [
    {
     "name": "stdout",
     "output_type": "stream",
     "text": [
      "The total number of files is 26\n",
      "Downloading... The 1 file\n",
      "Downloading... The 2 file\n",
      "Downloading... The 3 file\n",
      "Downloading... The 4 file\n",
      "Downloading... The 5 file\n",
      "Downloading... The 6 file\n",
      "Downloading... The 7 file\n",
      "Downloading... The 8 file\n",
      "Downloading... The 9 file\n",
      "Downloading... The 10 file\n",
      "Downloading... The 11 file\n",
      "Downloading... The 12 file\n",
      "Downloading... The 13 file\n",
      "Downloading... The 14 file\n",
      "Downloading... The 15 file\n",
      "Downloading... The 16 file\n",
      "Downloading... The 17 file\n",
      "Downloading... The 18 file\n",
      "Downloading... The 19 file\n",
      "Downloading... The 20 file\n",
      "Downloading... The 21 file\n",
      "Downloading... The 22 file\n",
      "Downloading... The 23 file\n",
      "Downloading... The 24 file\n",
      "Downloading... The 25 file\n",
      "Downloading... The 26 file\n",
      "Done, Have a nice trip\n"
     ]
    }
   ],
   "source": [
    "print('The total number of files is {}'.format(len(title)))\n",
    "i = 1\n",
    "for item in title:\n",
    "        print(\"Downloading... The {} file\".format(i))\n",
    "        wget.download(url+item, item.split(\"/\")[-1])\n",
    "        i = i+1\n",
    "        time.sleep(1)\n",
    "print('Done, Have a nice trip')"
   ]
  },
  {
   "cell_type": "code",
   "execution_count": 26,
   "metadata": {},
   "outputs": [
    {
     "data": {
      "text/plain": [
       "['/impact-workshop-7/English/1-07-P-Mahfouf.pdf',\n",
       " '/impact-workshop-7/Presentations/1-08-P-Cress.pptx',\n",
       " '/impact-workshop-7/English/1-09-P-Lewis.pdf',\n",
       " '/impact-workshop-7/English/1-10-P-Thomas.pdf',\n",
       " '/impact-workshop-7/Presentations/1-11-P-Healy.pptx',\n",
       " '/impact-workshop-7/English/1-12-P-Wei.pdf',\n",
       " '/impact-workshop-7/Presentations/1-13-P-Rennie.pptx',\n",
       " '/impact-workshop-7/Presentations/1-14-P-Petersen.pptx',\n",
       " '/impact-workshop-7/English/1-15-P-Ide.pdf',\n",
       " '/impact-workshop-7/Presentations/1-16-P-Laroche.pptx',\n",
       " '/impact-workshop-7/English/2-01-P-Kim.pdf',\n",
       " '/impact-workshop-7/Presentations/2-02-P-Jiang.pptx',\n",
       " '/impact-workshop-7/English/2-03-P-Min.pdf',\n",
       " '/impact-workshop-7/English/2-04-P-Ridal.pdf',\n",
       " '/impact-workshop-7/Presentations/2-05-P-Sahlaoui.pptx',\n",
       " '/impact-workshop-7/English/2-06-P-Randriamampianina.pdf',\n",
       " '/impact-workshop-7/Presentations/2-07-P-Csico.pptx',\n",
       " '/impact-workshop-7/Presentations/2-08-P-Hdidou.pptx',\n",
       " '/impact-workshop-7/Presentations/2-09-P-James.pptx',\n",
       " '/impact-workshop-7/English/2-10-P-Dillon.pdf',\n",
       " '/impact-workshop-7/English/2-12-P-Liu.pdf',\n",
       " '/impact-workshop-7/English/2-13-P-Lindskog.pdf',\n",
       " '/impact-workshop-7/English/2-14-P-Loehnert.pdf',\n",
       " '/impact-workshop-7/Presentations/3-01-P-Tingwell.pptx',\n",
       " '/impact-workshop-7/Presentations/3-02-P-Okamoto.pptx',\n",
       " '/impact-workshop-7/English/3-03-P-Kim.pdf']"
      ]
     },
     "execution_count": 26,
     "metadata": {},
     "output_type": "execute_result"
    }
   ],
   "source": [
    "del(title[0])\n",
    "title"
   ]
  },
  {
   "cell_type": "code",
   "execution_count": null,
   "metadata": {},
   "outputs": [],
   "source": []
  },
  {
   "cell_type": "code",
   "execution_count": null,
   "metadata": {},
   "outputs": [],
   "source": []
  }
 ],
 "metadata": {
  "kernelspec": {
   "display_name": "jupyterlab",
   "language": "python",
   "name": "mylab"
  },
  "language_info": {
   "codemirror_mode": {
    "name": "ipython",
    "version": 3
   },
   "file_extension": ".py",
   "mimetype": "text/x-python",
   "name": "python",
   "nbconvert_exporter": "python",
   "pygments_lexer": "ipython3",
   "version": "3.7.9"
  }
 },
 "nbformat": 4,
 "nbformat_minor": 4
}
