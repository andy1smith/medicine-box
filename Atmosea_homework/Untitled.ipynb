{
 "cells": [
  {
   "cell_type": "code",
   "execution_count": null,
   "metadata": {},
   "outputs": [],
   "source": [
    "temp = ds['ts'][0, 0]\n",
    "# 创建画图空间\n",
    "proj = ccrs.PlateCarree(central_longitude=180)  #创建投影\n",
    "fig = plt.figure(figsize=(12,8))  #创建页面\n",
    "ax = fig.subplots(1, 1, subplot_kw={'projection': proj})  #子图\n",
    "# 设置地图属性:加载国界、海岸线\n",
    "ax.add_feature(cfeat.BORDERS.with_scale('110m'), linewidth=0.8, zorder=1) # The Resolution for world suggested to be 110\n",
    "ax.add_feature(cfeat.COASTLINE.with_scale('110m'), linewidth=0.6, zorder=1)  \n",
    "# 标注坐标轴\n",
    "ax.set_xticks([0, 60, 120, 180, 240, 300, 360], crs=ccrs.PlateCarree())\n",
    "ax.set_yticks([-90, -60, -30, 0, 30, 60, 90], crs=ccrs.PlateCarree())\n",
    "#网格点属性\n",
    "gl = ax.gridlines(crs=ccrs.PlateCarree(), draw_labels=True,\n",
    "    linewidth=1.2, color='k', alpha=0.5, linestyle='--')\n",
    "gl.xlabels_top = False #关闭顶端标签\n",
    "gl.ylabels_right = False #关闭右侧标签\n",
    "gl.xlabels_bottom = False\n",
    "gl.ylabels_left = False\n",
    "# zero_direction_label用来设置经度的0度加不加E和W\n",
    "lon_formatter = LongitudeFormatter(zero_direction_label=False)\n",
    "lat_formatter = LatitudeFormatter()\n",
    "ax.xaxis.set_major_formatter(lon_formatter)\n",
    "ax.yaxis.set_major_formatter(lat_formatter)\n",
    "# 设置colorbar\n",
    "cbar_kwargs = {\n",
    "   'orientation': 'vertical',\n",
    "   'label': '-5m temperature (℃)',\n",
    "   'shrink': 0.6,\n",
    "   'ticks': np.arange(-2,30,2)\n",
    "}\n",
    "levels = np.arange(-2,30,1)\n",
    "temp.plot.contourf(ax=ax, levels=levels, cmap='Spectral_r', \n",
    "    cbar_kwargs=cbar_kwargs, transform=ccrs.PlateCarree())\n",
    "ax.set_title(\"Average SST in 1986-1990\")  # Add a title to the axes.\n",
    "plt.xlabel(None)\n",
    "plt.ylabel(None)\n",
    "plt.savefig('1986-90Ave_sst.png')\n",
    "fig.show()"
   ]
  }
 ],
 "metadata": {
  "kernelspec": {
   "display_name": "pychong",
   "language": "python",
   "name": "pychong"
  },
  "language_info": {
   "codemirror_mode": {
    "name": "ipython",
    "version": 3
   },
   "file_extension": ".py",
   "mimetype": "text/x-python",
   "name": "python",
   "nbconvert_exporter": "python",
   "pygments_lexer": "ipython3",
   "version": "3.7.7"
  }
 },
 "nbformat": 4,
 "nbformat_minor": 2
}
